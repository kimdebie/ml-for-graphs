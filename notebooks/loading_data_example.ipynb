{
 "cells": [
  {
   "cell_type": "code",
   "execution_count": 1,
   "metadata": {},
   "outputs": [],
   "source": [
    "from stellargraph import StellarGraph\n",
    "import pandas as pd"
   ]
  },
  {
   "cell_type": "markdown",
   "metadata": {},
   "source": [
    "# Building basic graphs"
   ]
  },
  {
   "cell_type": "code",
   "execution_count": 2,
   "metadata": {},
   "outputs": [
    {
     "name": "stdout",
     "output_type": "stream",
     "text": [
      "StellarGraph: Undirected multigraph\n",
      " Nodes: 4, Edges: 5\n",
      "\n",
      " Node types:\n",
      "  default: [4]\n",
      "    Features: none\n",
      "    Edge types: default-default->default\n",
      "\n",
      " Edge types:\n",
      "    default-default->default: [5]\n",
      "        Weights: all 1 (default)\n",
      "        Features: none\n"
     ]
    }
   ],
   "source": [
    "# build small square network\n",
    "\n",
    "# a -- b\n",
    "# | \\  |\n",
    "# |  \\ |\n",
    "# d -- c\n",
    "\n",
    "square_edges = pd.DataFrame(\n",
    "    {\"source\": [\"a\", \"b\", \"c\", \"d\", \"a\"], \"target\": [\"b\", \"c\", \"d\", \"a\", \"c\"]}\n",
    ")\n",
    "\n",
    "square = StellarGraph(edges=square_edges, source_column=\"source\", target_column=\"target\")\n",
    "print(square.info())"
   ]
  },
  {
   "cell_type": "code",
   "execution_count": 3,
   "metadata": {},
   "outputs": [
    {
     "name": "stdout",
     "output_type": "stream",
     "text": [
      "StellarGraph: Undirected multigraph\n",
      " Nodes: 4, Edges: 5\n",
      "\n",
      " Node types:\n",
      "  default: [4]\n",
      "    Features: float32 vector, length 2\n",
      "    Edge types: default-default->default\n",
      "\n",
      " Edge types:\n",
      "    default-default->default: [5]\n",
      "        Weights: all 1 (default)\n",
      "        Features: none\n"
     ]
    }
   ],
   "source": [
    "# nodes in the network have two features (e.g. their coordinates)\n",
    "\n",
    "square_node_data = pd.DataFrame(\n",
    "    {\"x\": [1, 2, 3, 4], \"y\": [-0.2, 0.3, 0.0, -0.5]}, index=[\"a\", \"b\", \"c\", \"d\"]\n",
    ")\n",
    "\n",
    "square_node_features = StellarGraph(square_node_data, square_edges)\n",
    "print(square_node_features.info())"
   ]
  },
  {
   "cell_type": "code",
   "execution_count": 4,
   "metadata": {},
   "outputs": [
    {
     "name": "stdout",
     "output_type": "stream",
     "text": [
      "StellarGraph: Undirected multigraph\n",
      " Nodes: 4, Edges: 5\n",
      "\n",
      " Node types:\n",
      "  city: [4]\n",
      "    Features: float32 vector, length 2\n",
      "    Edge types: city-train->city\n",
      "\n",
      " Edge types:\n",
      "    city-train->city: [5]\n",
      "        Weights: all 1 (default)\n",
      "        Features: none\n"
     ]
    }
   ],
   "source": [
    "# naming nodes and edges - image nodes are cities and edges are train connections\n",
    "\n",
    "named_network = StellarGraph({\"city\": square_node_data}, {\"train\": square_edges})\n",
    "print(named_network.info())"
   ]
  },
  {
   "cell_type": "code",
   "execution_count": 5,
   "metadata": {},
   "outputs": [
    {
     "name": "stdout",
     "output_type": "stream",
     "text": [
      "StellarGraph: Undirected multigraph\n",
      " Nodes: 4, Edges: 5\n",
      "\n",
      " Node types:\n",
      "  city: [4]\n",
      "    Features: float32 vector, length 2\n",
      "    Edge types: city-train->city\n",
      "\n",
      " Edge types:\n",
      "    city-train->city: [5]\n",
      "        Weights: all 1 (default)\n",
      "        Features: float32 vector, length 1\n"
     ]
    }
   ],
   "source": [
    "# edges can have features too \n",
    "\n",
    "edges_with_features = pd.DataFrame(\n",
    "    {\"source\": [\"a\", \"b\", \"c\", \"d\", \"a\"], \"target\": [\"b\", \"c\", \"d\", \"a\", \"c\"],\n",
    "    \"travel time\": [2, 1, 4, 3, 2]}\n",
    ")\n",
    "\n",
    "named_network = StellarGraph({\"city\": square_node_data}, {\"train\": edges_with_features})\n",
    "print(named_network.info())"
   ]
  },
  {
   "cell_type": "markdown",
   "metadata": {},
   "source": [
    "Beyond these basic examples, graphs can have other characteristics, such as:\n",
    "\n",
    "* edge directions\n",
    "* multiple edge/node types \n",
    "\n",
    "For more: https://stellargraph.readthedocs.io/en/stable/demos/basics/loading-pandas.html"
   ]
  },
  {
   "cell_type": "code",
   "execution_count": null,
   "metadata": {},
   "outputs": [],
   "source": []
  }
 ],
 "metadata": {
  "kernelspec": {
   "display_name": "Python 3",
   "language": "python",
   "name": "python3"
  },
  "language_info": {
   "codemirror_mode": {
    "name": "ipython",
    "version": 3
   },
   "file_extension": ".py",
   "mimetype": "text/x-python",
   "name": "python",
   "nbconvert_exporter": "python",
   "pygments_lexer": "ipython3",
   "version": "3.8.3"
  }
 },
 "nbformat": 4,
 "nbformat_minor": 4
}
