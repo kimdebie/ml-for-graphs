{
 "cells": [
  {
   "cell_type": "markdown",
   "metadata": {},
   "source": [
    "# Node representation learning with attri2vec"
   ]
  },
  {
   "cell_type": "markdown",
   "metadata": {
    "nbsphinx": "hidden",
    "tags": [
     "CloudRunner"
    ]
   },
   "source": [
    "<table><tr><td>Run the latest release of this notebook:</td><td><a href=\"https://mybinder.org/v2/gh/stellargraph/stellargraph/master?urlpath=lab/tree/demos/embeddings/attri2vec-embeddings.ipynb\" alt=\"Open In Binder\" target=\"_parent\"><img src=\"https://mybinder.org/badge_logo.svg\"/></a></td><td><a href=\"https://colab.research.google.com/github/stellargraph/stellargraph/blob/master/demos/embeddings/attri2vec-embeddings.ipynb\" alt=\"Open In Colab\" target=\"_parent\"><img src=\"https://colab.research.google.com/assets/colab-badge.svg\"/></a></td></tr></table>"
   ]
  },
  {
   "cell_type": "markdown",
   "metadata": {},
   "source": [
    "This is the python implementation of the attri2vec algorithm outlined in paper [1]. The implementation uses the stellargraph components.\n",
    "\n",
    "<a name=\"refs\"></a>\n",
    "**References:** \n",
    "\n",
    "[1] [Attributed Network Embedding via Subspace Discovery](https://link.springer.com/article/10.1007/s10618-019-00650-2). D. Zhang, Y. Jie, X. Zhu and C. Zhang, Data Mining and Knowledge Discovery, 2019. \n",
    "\n",
    "## attri2vec\n",
    "\n",
    "attri2vec learns node representations by performing a linear/non-linear mapping on node content attributes. To make the learned node representations respect structural similarity, [DeepWalk](https://dl.acm.org/citation.cfm?id=2623732)/[Node2Vec](https://snap.stanford.edu/node2vec) learning mechanism is used to make nodes sharing similar random walk context nodes represented closely in the subspace. \n",
    "\n",
    "For each (``target``,``context``) node pair $(v_i,v_j)$ collected from random walks,  attri2vec learns the representation for the target node $v_i$ by using it to predict the existence of context node $v_j$, with the following three-layer neural network."
   ]
  },
  {
   "cell_type": "markdown",
   "metadata": {},
   "source": [
    "![](attri2vec-illustration.png)"
   ]
  },
  {
   "cell_type": "markdown",
   "metadata": {},
   "source": [
    "Node $v_i$'s representation in the hidden layer is obtained by multiplying $v_i$'s raw content feature vector in the input layer with the input-to-hidden weight matrix $W_{in}$ followed by an activation function. To obtain the hidden-layer representation, the one-layer mapping can be replaced by multi-layer mappings. The existence probability of each node conditioned on node $v_i$ is outputted in the output layer, which is obtained by multiplying $v_i$'s hidden-layer representation with the hidden-to-out weight matrix $W_{out}$ followed by a softmax activation. To capture the ``target-context`` relation between $v_i$ and $v_j$, we need to maximize the probability $\\mathrm{P}(v_j|v_i)$. However, computing $\\mathrm{P}(v_j|v_i)$ is time consuming, which involves the matrix multiplication between $v_i$'s hidden-layer representation and the hidden-to-out weight matrix $W_{out}$."
   ]
  },
  {
   "cell_type": "markdown",
   "metadata": {},
   "source": [
    "To speed up the computing, we adopt the negative sampling strategy [1]. For each (``target``, ``context``) node pair, we sample a negative node $v_k$, which is not $v_i$'s context. To obtain the output, instead of multiplying $v_i$'s hidden-layer representation with the hidden-to-out weight matrix $W_{out}$ followed by a softmax activation, we only calculate the dot product between $v_i$'s hidden-layer representation and the $j$th column as well as the $k$th column of the hidden-to-output weight matrix $W_{out}$ followed by a sigmoid activation respectively. According to [1], the original objective to maximize $\\mathrm{P}(v_j|v_i)$ can be approximated by minimizing the cross entropy between $v_j$ and $v_k$'s outputs and their ground-truth labels (1 for $v_j$ and 0 for $v_k$)."
   ]
  },
  {
   "cell_type": "markdown",
   "metadata": {},
   "source": [
    "The entire model is trained end-to-end by minimizing the binary cross-entropy loss function with regards to predicted node pair labels and true node pair labels, using stochastic gradient descent (SGD) updates of the model parameters, with minibatches of 'training' node pairs generated on demand and fed into the model."
   ]
  },
  {
   "cell_type": "code",
   "execution_count": 10,
   "metadata": {
    "nbsphinx": "hidden",
    "tags": [
     "CloudRunner"
    ]
   },
   "outputs": [],
   "source": [
    "# install StellarGraph if running on Google Colab\n",
    "import sys\n",
    "if 'google.colab' in sys.modules:\n",
    "  %pip install -q stellargraph[demos]==1.2.1"
   ]
  },
  {
   "cell_type": "code",
   "execution_count": 11,
   "metadata": {
    "nbsphinx": "hidden",
    "tags": [
     "VersionCheck"
    ]
   },
   "outputs": [],
   "source": [
    "# verify that we're using the correct version of StellarGraph for this notebook\n",
    "import stellargraph as sg\n",
    "\n",
    "try:\n",
    "    sg.utils.validate_notebook_version(\"1.2.1\")\n",
    "except AttributeError:\n",
    "    raise ValueError(\n",
    "        f\"This notebook requires StellarGraph version 1.2.1, but a different version {sg.__version__} is installed.  Please see <https://github.com/stellargraph/stellargraph/issues/1172>.\"\n",
    "    ) from None"
   ]
  },
  {
   "cell_type": "code",
   "execution_count": 12,
   "metadata": {},
   "outputs": [],
   "source": [
    "import networkx as nx\n",
    "import pandas as pd\n",
    "import numpy as np\n",
    "import os\n",
    "import random\n",
    "\n",
    "import stellargraph as sg\n",
    "from stellargraph.data import UnsupervisedSampler\n",
    "from stellargraph.mapper import Attri2VecLinkGenerator, Attri2VecNodeGenerator\n",
    "from stellargraph.layer import Attri2Vec, link_classification\n",
    "\n",
    "from tensorflow import keras\n",
    "\n",
    "from pandas.core.indexes.base import Index\n",
    "\n",
    "import matplotlib.pyplot as plt\n",
    "from sklearn.manifold import TSNE\n",
    "from sklearn.decomposition import PCA\n",
    "\n",
    "from sklearn.model_selection import train_test_split\n",
    "from sklearn.linear_model import LogisticRegressionCV\n",
    "from sklearn.metrics import accuracy_score\n",
    "from sklearn import preprocessing\n",
    "\n",
    "from stellargraph import datasets\n",
    "from IPython.display import display, HTML\n",
    "\n",
    "from generate_cdr import get_cdr_data"
   ]
  },
  {
   "cell_type": "markdown",
   "metadata": {},
   "source": [
    "## Dataset\n",
    "\n",
    "For clarity we ignore isolated nodes and subgraphs and use only the largest connected component."
   ]
  },
  {
   "cell_type": "markdown",
   "metadata": {
    "tags": [
     "DataLoadingLinks"
    ]
   },
   "source": [
    "(See [the \"Loading from Pandas\" demo](../basics/loading-pandas.ipynb) for details on how data can be loaded.)"
   ]
  },
  {
   "cell_type": "code",
   "execution_count": 53,
   "metadata": {
    "tags": [
     "DataLoading"
    ]
   },
   "outputs": [
    {
     "data": {
      "text/html": [
       "The CiteSeer dataset consists of 3312 scientific publications classified into one of six classes. The citation network consists of 4732 links, although 17 of these have a source or target publication that isn't in the dataset and only 4715 are included in the graph. Each publication in the dataset is described by a 0/1-valued word vector indicating the absence/presence of the corresponding word from the dictionary. The dictionary consists of 3703 unique words."
      ],
      "text/plain": [
       "<IPython.core.display.HTML object>"
      ]
     },
     "metadata": {},
     "output_type": "display_data"
    },
    {
     "name": "stdout",
     "output_type": "stream",
     "text": [
      "Index(['100157', '100598', '11099', '114091', '11510', '115971', '117999',\n",
      "       '120432', '126894', '128239',\n",
      "       ...\n",
      "       'warshaw99rulebased', 'weinstein99agentbased', 'werger00ayllu',\n",
      "       'wolpert99general', 'wroblewski00analyzing', 'yang00temporal',\n",
      "       'youll00impulse', 'zavrel00information', 'zhang01maximum',\n",
      "       'zhang01pvm'],\n",
      "      dtype='object', length=2110)\n"
     ]
    }
   ],
   "source": [
    "dataset = datasets.CiteSeer()\n",
    "display(HTML(dataset.description))\n",
    "G, subjects = dataset.load(largest_connected_component_only=True)\n",
    "print(subjects.index)"
   ]
  },
  {
   "cell_type": "code",
   "execution_count": 14,
   "metadata": {},
   "outputs": [
    {
     "data": {
      "text/html": [
       "<div>\n",
       "<style scoped>\n",
       "    .dataframe tbody tr th:only-of-type {\n",
       "        vertical-align: middle;\n",
       "    }\n",
       "\n",
       "    .dataframe tbody tr th {\n",
       "        vertical-align: top;\n",
       "    }\n",
       "\n",
       "    .dataframe thead th {\n",
       "        text-align: right;\n",
       "    }\n",
       "</style>\n",
       "<table border=\"1\" class=\"dataframe\">\n",
       "  <thead>\n",
       "    <tr style=\"text-align: right;\">\n",
       "      <th></th>\n",
       "      <th>timestamp</th>\n",
       "      <th>person_1</th>\n",
       "      <th>person_2</th>\n",
       "      <th>number_1</th>\n",
       "      <th>number_2</th>\n",
       "    </tr>\n",
       "  </thead>\n",
       "  <tbody>\n",
       "    <tr>\n",
       "      <th>0</th>\n",
       "      <td>0</td>\n",
       "      <td>Willie Kahl</td>\n",
       "      <td>Heather Morris</td>\n",
       "      <td>+3163972005</td>\n",
       "      <td>+3166892714</td>\n",
       "    </tr>\n",
       "    <tr>\n",
       "      <th>1</th>\n",
       "      <td>1</td>\n",
       "      <td>Ken Walson</td>\n",
       "      <td>Sandra Goodwin</td>\n",
       "      <td>+3168107893</td>\n",
       "      <td>+3161898583</td>\n",
       "    </tr>\n",
       "    <tr>\n",
       "      <th>2</th>\n",
       "      <td>2</td>\n",
       "      <td>Sandra Goodwin</td>\n",
       "      <td>Jennifer Harvey</td>\n",
       "      <td>+3161898583</td>\n",
       "      <td>+3160561397</td>\n",
       "    </tr>\n",
       "    <tr>\n",
       "      <th>3</th>\n",
       "      <td>3</td>\n",
       "      <td>Heather Morris</td>\n",
       "      <td>William Lee</td>\n",
       "      <td>+3166892714</td>\n",
       "      <td>+3160124654</td>\n",
       "    </tr>\n",
       "    <tr>\n",
       "      <th>4</th>\n",
       "      <td>4</td>\n",
       "      <td>Fred Jones</td>\n",
       "      <td>Ricky Rosenberg</td>\n",
       "      <td>+3169696199</td>\n",
       "      <td>+3166156735</td>\n",
       "    </tr>\n",
       "    <tr>\n",
       "      <th>...</th>\n",
       "      <td>...</td>\n",
       "      <td>...</td>\n",
       "      <td>...</td>\n",
       "      <td>...</td>\n",
       "      <td>...</td>\n",
       "    </tr>\n",
       "    <tr>\n",
       "      <th>2995</th>\n",
       "      <td>2995</td>\n",
       "      <td>Heather Morris</td>\n",
       "      <td>Charles Whaley</td>\n",
       "      <td>+3160733836</td>\n",
       "      <td>+3166442292</td>\n",
       "    </tr>\n",
       "    <tr>\n",
       "      <th>2996</th>\n",
       "      <td>2996</td>\n",
       "      <td>Antonio Tweed</td>\n",
       "      <td>Susan Wong</td>\n",
       "      <td>+3160226440</td>\n",
       "      <td>+3162217596</td>\n",
       "    </tr>\n",
       "    <tr>\n",
       "      <th>2997</th>\n",
       "      <td>2997</td>\n",
       "      <td>Jessica Weathers</td>\n",
       "      <td>Megan Towne</td>\n",
       "      <td>+3161846089</td>\n",
       "      <td>+3162393028</td>\n",
       "    </tr>\n",
       "    <tr>\n",
       "      <th>2998</th>\n",
       "      <td>2998</td>\n",
       "      <td>Ricky Rosenberg</td>\n",
       "      <td>Susan Wong</td>\n",
       "      <td>+3161402500</td>\n",
       "      <td>+3162217596</td>\n",
       "    </tr>\n",
       "    <tr>\n",
       "      <th>2999</th>\n",
       "      <td>2999</td>\n",
       "      <td>Jennifer Harvey</td>\n",
       "      <td>Charles Whaley</td>\n",
       "      <td>+3164490530</td>\n",
       "      <td>+3166442292</td>\n",
       "    </tr>\n",
       "  </tbody>\n",
       "</table>\n",
       "<p>3000 rows × 5 columns</p>\n",
       "</div>"
      ],
      "text/plain": [
       "      timestamp          person_1         person_2     number_1     number_2\n",
       "0             0       Willie Kahl   Heather Morris  +3163972005  +3166892714\n",
       "1             1        Ken Walson   Sandra Goodwin  +3168107893  +3161898583\n",
       "2             2    Sandra Goodwin  Jennifer Harvey  +3161898583  +3160561397\n",
       "3             3    Heather Morris      William Lee  +3166892714  +3160124654\n",
       "4             4        Fred Jones  Ricky Rosenberg  +3169696199  +3166156735\n",
       "...         ...               ...              ...          ...          ...\n",
       "2995       2995    Heather Morris   Charles Whaley  +3160733836  +3166442292\n",
       "2996       2996     Antonio Tweed       Susan Wong  +3160226440  +3162217596\n",
       "2997       2997  Jessica Weathers      Megan Towne  +3161846089  +3162393028\n",
       "2998       2998   Ricky Rosenberg       Susan Wong  +3161402500  +3162217596\n",
       "2999       2999   Jennifer Harvey   Charles Whaley  +3164490530  +3166442292\n",
       "\n",
       "[3000 rows x 5 columns]"
      ]
     },
     "execution_count": 14,
     "metadata": {},
     "output_type": "execute_result"
    }
   ],
   "source": [
    "dataset2 = pd.DataFrame(get_cdr_data(), columns=[\"timestamp\", \"person_1\", \"person_2\", \"number_1\", \"number_2\"])\n",
    "dataset2"
   ]
  },
  {
   "cell_type": "code",
   "execution_count": 74,
   "metadata": {},
   "outputs": [
    {
     "name": "stdout",
     "output_type": "stream",
     "text": [
      "      number_1        person_1\n",
      "0  +3163972005     Willie Kahl\n",
      "1  +3168107893      Ken Walson\n",
      "2  +3161898583  Sandra Goodwin\n",
      "3  +3166892714  Heather Morris\n",
      "4  +3169696199      Fred Jones\n"
     ]
    }
   ],
   "source": [
    "edgelist = dataset2[[\"number_1\", \"number_2\"]]\n",
    "\n",
    "nodelist = dataset2[[\"number_1\", \"person_1\"]].drop_duplicates()\n",
    "target_encoding = preprocessing.OneHotEncoder()\n",
    "nodelist[\"features\"] = target_encoding.fit_transform(nodelist[[\"person_1\"]]).toarray().tolist()\n",
    "\n",
    "data = [[name] + onehot for name, onehot in zip(nodelist[\"number_1\"], nodelist[\"features\"])]\n",
    "\n",
    "node_final = pd.DataFrame(data, columns=[\"col\" + str(i) for i in range(0, 21)])\n",
    "node_final = node_final.set_index('col0')\n",
    "\n",
    "\n",
    "G2 = sg.StellarGraph(edges=edgelist, source_column=\"number_1\", target_column=\"number_2\", nodes=node_final)\n",
    "G = G2"
   ]
  },
  {
   "cell_type": "code",
   "execution_count": 16,
   "metadata": {},
   "outputs": [
    {
     "name": "stdout",
     "output_type": "stream",
     "text": [
      "StellarGraph: Undirected multigraph\n",
      " Nodes: 60, Edges: 3000\n",
      "\n",
      " Node types:\n",
      "  default: [60]\n",
      "    Features: float32 vector, length 20\n",
      "    Edge types: default-default->default\n",
      "\n",
      " Edge types:\n",
      "    default-default->default: [3000]\n",
      "        Weights: all 1 (default)\n",
      "        Features: none\n",
      "StellarGraph: Undirected multigraph\n",
      " Nodes: 60, Edges: 3000\n",
      "\n",
      " Node types:\n",
      "  default: [60]\n",
      "    Features: float32 vector, length 20\n",
      "    Edge types: default-default->default\n",
      "\n",
      " Edge types:\n",
      "    default-default->default: [3000]\n",
      "        Weights: all 1 (default)\n",
      "        Features: none\n"
     ]
    }
   ],
   "source": [
    "print(G.info())\n",
    "print(G2.info())"
   ]
  },
  {
   "cell_type": "markdown",
   "metadata": {},
   "source": [
    "## Train attri2vec on Citeseer"
   ]
  },
  {
   "cell_type": "markdown",
   "metadata": {},
   "source": [
    "Specify the other optional parameter values: root nodes, the number of walks to take per node, the length of each walk."
   ]
  },
  {
   "cell_type": "code",
   "execution_count": 33,
   "metadata": {},
   "outputs": [],
   "source": [
    "nodes = list(G.nodes())\n",
    "number_of_walks = 4\n",
    "length = 3"
   ]
  },
  {
   "cell_type": "markdown",
   "metadata": {},
   "source": [
    "Create the UnsupervisedSampler instance with the relevant parameters passed to it."
   ]
  },
  {
   "cell_type": "code",
   "execution_count": 34,
   "metadata": {},
   "outputs": [],
   "source": [
    "unsupervised_samples = UnsupervisedSampler(\n",
    "    G, nodes=nodes, length=length, number_of_walks=number_of_walks\n",
    ")"
   ]
  },
  {
   "cell_type": "markdown",
   "metadata": {},
   "source": [
    "Set the batch size and the number of epochs. "
   ]
  },
  {
   "cell_type": "code",
   "execution_count": 42,
   "metadata": {},
   "outputs": [],
   "source": [
    "batch_size = 10\n",
    "epochs = 100"
   ]
  },
  {
   "cell_type": "markdown",
   "metadata": {},
   "source": [
    "Define an attri2vec training generator, which generates a batch of (feature of target node, index of context node, label of node pair) pairs per iteration."
   ]
  },
  {
   "cell_type": "code",
   "execution_count": 43,
   "metadata": {},
   "outputs": [],
   "source": [
    "generator = Attri2VecLinkGenerator(G, batch_size)\n",
    "train_gen = generator.flow(unsupervised_samples)"
   ]
  },
  {
   "cell_type": "markdown",
   "metadata": {},
   "source": [
    "Building the model: a 1-hidden-layer node representation ('input embedding') of the `target` node and the parameter vector ('output embedding') for predicting the existence of `context node` for each `(target context)` pair, with a link classification layer performed on the dot product of the 'input embedding' of the `target` node and the 'output embedding' of the `context` node.\n",
    "\n",
    "Attri2Vec part of the model, with a 128-dimension hidden layer, no bias term and no normalization. (Normalization can be set to 'l2'). "
   ]
  },
  {
   "cell_type": "code",
   "execution_count": 44,
   "metadata": {},
   "outputs": [],
   "source": [
    "layer_sizes = [128]\n",
    "attri2vec = Attri2Vec(\n",
    "    layer_sizes=layer_sizes, generator=generator, bias=False, normalize=None\n",
    ")"
   ]
  },
  {
   "cell_type": "code",
   "execution_count": 45,
   "metadata": {},
   "outputs": [],
   "source": [
    "# Build the model and expose input and output sockets of attri2vec, for node pair inputs:\n",
    "x_inp, x_out = attri2vec.in_out_tensors()"
   ]
  },
  {
   "cell_type": "markdown",
   "metadata": {},
   "source": [
    "Use the link_classification function to generate the prediction, with the `ip` edge embedding generation method and the `sigmoid` activation, which actually performs the dot product of the 'input embedding' of the target node and the 'output embedding' of the context node followed by a sigmoid activation. "
   ]
  },
  {
   "cell_type": "code",
   "execution_count": 46,
   "metadata": {},
   "outputs": [
    {
     "name": "stdout",
     "output_type": "stream",
     "text": [
      "link_classification: using 'ip' method to combine node embeddings into edge embeddings\n"
     ]
    }
   ],
   "source": [
    "prediction = link_classification(\n",
    "    output_dim=1, output_act=\"sigmoid\", edge_embedding_method=\"ip\"\n",
    ")(x_out)"
   ]
  },
  {
   "cell_type": "markdown",
   "metadata": {},
   "source": [
    "Stack the Attri2Vec encoder and prediction layer into a Keras model, and specify the loss."
   ]
  },
  {
   "cell_type": "code",
   "execution_count": 47,
   "metadata": {},
   "outputs": [],
   "source": [
    "model = keras.Model(inputs=x_inp, outputs=prediction)\n",
    "\n",
    "model.compile(\n",
    "    optimizer=keras.optimizers.Adam(lr=1e-3),\n",
    "    loss=keras.losses.binary_crossentropy,\n",
    "    metrics=[keras.metrics.binary_accuracy],\n",
    ")"
   ]
  },
  {
   "cell_type": "markdown",
   "metadata": {},
   "source": [
    "Train the model."
   ]
  },
  {
   "cell_type": "code",
   "execution_count": 48,
   "metadata": {},
   "outputs": [
    {
     "name": "stdout",
     "output_type": "stream",
     "text": [
      "Epoch 1/100\n",
      "96/96 - 2s - loss: 0.7107 - binary_accuracy: 0.5031\n",
      "Epoch 2/100\n",
      "96/96 - 0s - loss: 0.7107 - binary_accuracy: 0.4927\n",
      "Epoch 3/100\n",
      "96/96 - 0s - loss: 0.7152 - binary_accuracy: 0.5083\n",
      "Epoch 4/100\n",
      "96/96 - 0s - loss: 0.7227 - binary_accuracy: 0.4635\n",
      "Epoch 5/100\n",
      "96/96 - 0s - loss: 0.7049 - binary_accuracy: 0.5188\n",
      "Epoch 6/100\n",
      "96/96 - 0s - loss: 0.7173 - binary_accuracy: 0.5021\n",
      "Epoch 7/100\n",
      "96/96 - 0s - loss: 0.7045 - binary_accuracy: 0.5198\n",
      "Epoch 8/100\n",
      "96/96 - 0s - loss: 0.7135 - binary_accuracy: 0.4958\n",
      "Epoch 9/100\n",
      "96/96 - 0s - loss: 0.7100 - binary_accuracy: 0.5083\n",
      "Epoch 10/100\n",
      "96/96 - 0s - loss: 0.7228 - binary_accuracy: 0.4698\n",
      "Epoch 11/100\n",
      "96/96 - 0s - loss: 0.7106 - binary_accuracy: 0.5031\n",
      "Epoch 12/100\n",
      "96/96 - 0s - loss: 0.7142 - binary_accuracy: 0.5073\n",
      "Epoch 13/100\n",
      "96/96 - 0s - loss: 0.7034 - binary_accuracy: 0.5031\n",
      "Epoch 14/100\n",
      "96/96 - 0s - loss: 0.7114 - binary_accuracy: 0.4990\n",
      "Epoch 15/100\n",
      "96/96 - 0s - loss: 0.7055 - binary_accuracy: 0.5208\n",
      "Epoch 16/100\n",
      "96/96 - 0s - loss: 0.7182 - binary_accuracy: 0.4906\n",
      "Epoch 17/100\n",
      "96/96 - 0s - loss: 0.7042 - binary_accuracy: 0.5219\n",
      "Epoch 18/100\n",
      "96/96 - 0s - loss: 0.7162 - binary_accuracy: 0.4948\n",
      "Epoch 19/100\n",
      "96/96 - 0s - loss: 0.7169 - binary_accuracy: 0.4594\n",
      "Epoch 20/100\n",
      "96/96 - 0s - loss: 0.7073 - binary_accuracy: 0.4969\n",
      "Epoch 21/100\n",
      "96/96 - 0s - loss: 0.7084 - binary_accuracy: 0.5063\n",
      "Epoch 22/100\n",
      "96/96 - 0s - loss: 0.7096 - binary_accuracy: 0.5104\n",
      "Epoch 23/100\n",
      "96/96 - 0s - loss: 0.7075 - binary_accuracy: 0.5094\n",
      "Epoch 24/100\n",
      "96/96 - 0s - loss: 0.7100 - binary_accuracy: 0.4948\n",
      "Epoch 25/100\n",
      "96/96 - 0s - loss: 0.7055 - binary_accuracy: 0.4938\n",
      "Epoch 26/100\n",
      "96/96 - 0s - loss: 0.7091 - binary_accuracy: 0.5146\n",
      "Epoch 27/100\n",
      "96/96 - 0s - loss: 0.7029 - binary_accuracy: 0.5167\n",
      "Epoch 28/100\n",
      "96/96 - 0s - loss: 0.7082 - binary_accuracy: 0.5052\n",
      "Epoch 29/100\n",
      "96/96 - 0s - loss: 0.6975 - binary_accuracy: 0.5333\n",
      "Epoch 30/100\n",
      "96/96 - 0s - loss: 0.7004 - binary_accuracy: 0.5312\n",
      "Epoch 31/100\n",
      "96/96 - 0s - loss: 0.7057 - binary_accuracy: 0.5281\n",
      "Epoch 32/100\n",
      "96/96 - 0s - loss: 0.6976 - binary_accuracy: 0.5281\n",
      "Epoch 33/100\n",
      "96/96 - 0s - loss: 0.7013 - binary_accuracy: 0.5271\n",
      "Epoch 34/100\n",
      "96/96 - 0s - loss: 0.7010 - binary_accuracy: 0.5094\n",
      "Epoch 35/100\n",
      "96/96 - 0s - loss: 0.6960 - binary_accuracy: 0.5219\n",
      "Epoch 36/100\n",
      "96/96 - 0s - loss: 0.6950 - binary_accuracy: 0.5281\n",
      "Epoch 37/100\n",
      "96/96 - 0s - loss: 0.6912 - binary_accuracy: 0.5271\n",
      "Epoch 38/100\n",
      "96/96 - 0s - loss: 0.6921 - binary_accuracy: 0.5583\n",
      "Epoch 39/100\n",
      "96/96 - 0s - loss: 0.6828 - binary_accuracy: 0.5802\n",
      "Epoch 40/100\n",
      "96/96 - 0s - loss: 0.6953 - binary_accuracy: 0.5250\n",
      "Epoch 41/100\n",
      "96/96 - 0s - loss: 0.6888 - binary_accuracy: 0.5385\n",
      "Epoch 42/100\n",
      "96/96 - 0s - loss: 0.6817 - binary_accuracy: 0.5615\n",
      "Epoch 43/100\n",
      "96/96 - 0s - loss: 0.6878 - binary_accuracy: 0.5479\n",
      "Epoch 44/100\n",
      "96/96 - 0s - loss: 0.6848 - binary_accuracy: 0.5594\n",
      "Epoch 45/100\n",
      "96/96 - 0s - loss: 0.6936 - binary_accuracy: 0.5344\n",
      "Epoch 46/100\n",
      "96/96 - 0s - loss: 0.6885 - binary_accuracy: 0.5354\n",
      "Epoch 47/100\n",
      "96/96 - 0s - loss: 0.6837 - binary_accuracy: 0.5583\n",
      "Epoch 48/100\n",
      "96/96 - 0s - loss: 0.6725 - binary_accuracy: 0.5750\n",
      "Epoch 49/100\n",
      "96/96 - 0s - loss: 0.6790 - binary_accuracy: 0.5604\n",
      "Epoch 50/100\n",
      "96/96 - 0s - loss: 0.6806 - binary_accuracy: 0.5500\n",
      "Epoch 51/100\n",
      "96/96 - 0s - loss: 0.6662 - binary_accuracy: 0.6073\n",
      "Epoch 52/100\n",
      "96/96 - 0s - loss: 0.6758 - binary_accuracy: 0.5750\n",
      "Epoch 53/100\n",
      "96/96 - 0s - loss: 0.6816 - binary_accuracy: 0.5708\n",
      "Epoch 54/100\n",
      "96/96 - 0s - loss: 0.6772 - binary_accuracy: 0.5656\n",
      "Epoch 55/100\n",
      "96/96 - 0s - loss: 0.6662 - binary_accuracy: 0.5740\n",
      "Epoch 56/100\n",
      "96/96 - 0s - loss: 0.6730 - binary_accuracy: 0.5813\n",
      "Epoch 57/100\n",
      "96/96 - 0s - loss: 0.6605 - binary_accuracy: 0.5906\n",
      "Epoch 58/100\n",
      "96/96 - 0s - loss: 0.6631 - binary_accuracy: 0.5854\n",
      "Epoch 59/100\n",
      "96/96 - 0s - loss: 0.6562 - binary_accuracy: 0.5938\n",
      "Epoch 60/100\n",
      "96/96 - 0s - loss: 0.6739 - binary_accuracy: 0.5615\n",
      "Epoch 61/100\n",
      "96/96 - 0s - loss: 0.6636 - binary_accuracy: 0.6115\n",
      "Epoch 62/100\n",
      "96/96 - 0s - loss: 0.6695 - binary_accuracy: 0.5781\n",
      "Epoch 63/100\n",
      "96/96 - 0s - loss: 0.6638 - binary_accuracy: 0.6042\n",
      "Epoch 64/100\n",
      "96/96 - 0s - loss: 0.6587 - binary_accuracy: 0.6073\n",
      "Epoch 65/100\n",
      "96/96 - 0s - loss: 0.6535 - binary_accuracy: 0.6146\n",
      "Epoch 66/100\n",
      "96/96 - 0s - loss: 0.6471 - binary_accuracy: 0.6115\n",
      "Epoch 67/100\n",
      "96/96 - 0s - loss: 0.6533 - binary_accuracy: 0.6260\n",
      "Epoch 68/100\n",
      "96/96 - 0s - loss: 0.6519 - binary_accuracy: 0.6062\n",
      "Epoch 69/100\n",
      "96/96 - 0s - loss: 0.6501 - binary_accuracy: 0.5990\n",
      "Epoch 70/100\n",
      "96/96 - 0s - loss: 0.6806 - binary_accuracy: 0.5646\n",
      "Epoch 71/100\n",
      "96/96 - 0s - loss: 0.6638 - binary_accuracy: 0.5906\n",
      "Epoch 72/100\n",
      "96/96 - 0s - loss: 0.6705 - binary_accuracy: 0.5896\n",
      "Epoch 73/100\n",
      "96/96 - 0s - loss: 0.6418 - binary_accuracy: 0.6344\n",
      "Epoch 74/100\n",
      "96/96 - 0s - loss: 0.6528 - binary_accuracy: 0.6260\n",
      "Epoch 75/100\n",
      "96/96 - 0s - loss: 0.6553 - binary_accuracy: 0.6062\n",
      "Epoch 76/100\n",
      "96/96 - 0s - loss: 0.6622 - binary_accuracy: 0.6031\n",
      "Epoch 77/100\n",
      "96/96 - 0s - loss: 0.6521 - binary_accuracy: 0.6125\n",
      "Epoch 78/100\n",
      "96/96 - 0s - loss: 0.6584 - binary_accuracy: 0.6010\n",
      "Epoch 79/100\n",
      "96/96 - 0s - loss: 0.6396 - binary_accuracy: 0.6417\n",
      "Epoch 80/100\n",
      "96/96 - 0s - loss: 0.6562 - binary_accuracy: 0.6042\n",
      "Epoch 81/100\n",
      "96/96 - 0s - loss: 0.6513 - binary_accuracy: 0.6229\n",
      "Epoch 82/100\n",
      "96/96 - 0s - loss: 0.6369 - binary_accuracy: 0.6344\n",
      "Epoch 83/100\n",
      "96/96 - 0s - loss: 0.6471 - binary_accuracy: 0.6250\n",
      "Epoch 84/100\n",
      "96/96 - 0s - loss: 0.6393 - binary_accuracy: 0.6177\n",
      "Epoch 85/100\n",
      "96/96 - 0s - loss: 0.6494 - binary_accuracy: 0.6344\n",
      "Epoch 86/100\n",
      "96/96 - 0s - loss: 0.6346 - binary_accuracy: 0.6417\n",
      "Epoch 87/100\n",
      "96/96 - 0s - loss: 0.6377 - binary_accuracy: 0.6396\n",
      "Epoch 88/100\n",
      "96/96 - 0s - loss: 0.6335 - binary_accuracy: 0.6281\n",
      "Epoch 89/100\n",
      "96/96 - 0s - loss: 0.6451 - binary_accuracy: 0.6271\n",
      "Epoch 90/100\n",
      "96/96 - 0s - loss: 0.6345 - binary_accuracy: 0.6438\n",
      "Epoch 91/100\n",
      "96/96 - 0s - loss: 0.6343 - binary_accuracy: 0.6458\n",
      "Epoch 92/100\n",
      "96/96 - 0s - loss: 0.6291 - binary_accuracy: 0.6438\n",
      "Epoch 93/100\n",
      "96/96 - 0s - loss: 0.6489 - binary_accuracy: 0.6156\n",
      "Epoch 94/100\n",
      "96/96 - 0s - loss: 0.6466 - binary_accuracy: 0.6281\n",
      "Epoch 95/100\n",
      "96/96 - 0s - loss: 0.6322 - binary_accuracy: 0.6396\n",
      "Epoch 96/100\n",
      "96/96 - 0s - loss: 0.6359 - binary_accuracy: 0.6490\n",
      "Epoch 97/100\n",
      "96/96 - 0s - loss: 0.6278 - binary_accuracy: 0.6542\n",
      "Epoch 98/100\n",
      "96/96 - 0s - loss: 0.6410 - binary_accuracy: 0.6333\n",
      "Epoch 99/100\n",
      "96/96 - 0s - loss: 0.6415 - binary_accuracy: 0.6427\n",
      "Epoch 100/100\n",
      "96/96 - 0s - loss: 0.6539 - binary_accuracy: 0.6125\n"
     ]
    }
   ],
   "source": [
    "history = model.fit(\n",
    "    train_gen,\n",
    "    epochs=epochs,\n",
    "    verbose=2,\n",
    "    use_multiprocessing=False,\n",
    "    workers=1,\n",
    "    shuffle=True,\n",
    ")"
   ]
  },
  {
   "cell_type": "markdown",
   "metadata": {},
   "source": [
    "##  Visualise Node Embeddings"
   ]
  },
  {
   "cell_type": "markdown",
   "metadata": {},
   "source": [
    "Build the node based model for predicting node representations from node content attributes with the learned parameters. Below a Keras model is constructed, with `x_inp[0]` as input and `x_out[0]` as output. Note that this model's weights are the same as those of the corresponding node encoder in the previously trained node pair classifier."
   ]
  },
  {
   "cell_type": "code",
   "execution_count": 49,
   "metadata": {},
   "outputs": [],
   "source": [
    "x_inp_src = x_inp[0]\n",
    "x_out_src = x_out[0]\n",
    "embedding_model = keras.Model(inputs=x_inp_src, outputs=x_out_src)"
   ]
  },
  {
   "cell_type": "markdown",
   "metadata": {},
   "source": [
    "Get the node embeddings by applying the learned mapping function to node content features."
   ]
  },
  {
   "cell_type": "code",
   "execution_count": 70,
   "metadata": {},
   "outputs": [
    {
     "name": "stdout",
     "output_type": "stream",
     "text": [
      "Index(['+3163972005', '+3168107893', '+3161898583', '+3166892714',\n",
      "       '+3169696199', '+3169735294', '+3161343236', '+3166156735',\n",
      "       '+3166183722', '+3168078781', '+3160561397', '+3169669587',\n",
      "       '+3160124654', '+3169163149', '+3167126489', '+3160635269',\n",
      "       '+3164517272', '+3168357686', '+3169531968', '+3168417612',\n",
      "       '+3168200596', '+3165115785', '+3165119801', '+3160034993',\n",
      "       '+3169892253', '+3163616856', '+3165087859', '+3164756043',\n",
      "       '+3162052321', '+3160816229', '+3161975386', '+3168152477',\n",
      "       '+3163071524', '+3166282392', '+3166232188', '+3162384710',\n",
      "       '+3164932187', '+3162396950', '+3160469389', '+3167075907',\n",
      "       '+3160347555', '+3161425479', '+3161846089', '+3161402500',\n",
      "       '+3161673190', '+3165677240', '+3160197778', '+3166442292',\n",
      "       '+3160733836', '+3162393028', '+3164490530', '+3164166503',\n",
      "       '+3166339692', '+3169099461', '+3163394393', '+3160226440',\n",
      "       '+3162217596', '+3161784071', '+3160227365', '+3160157641'],\n",
      "      dtype='object', name='col0')\n",
      "6/6 [==============================] - 0s 3ms/step\n"
     ]
    }
   ],
   "source": [
    "node_gen = Attri2VecNodeGenerator(G, batch_size).flow(node_final.index)\n",
    "node_embeddings = embedding_model.predict(node_gen, workers=1, verbose=1)"
   ]
  },
  {
   "cell_type": "markdown",
   "metadata": {},
   "source": [
    "Transform the embeddings to 2d space for visualisation."
   ]
  },
  {
   "cell_type": "code",
   "execution_count": 68,
   "metadata": {},
   "outputs": [],
   "source": [
    "transform = TSNE  # PCA\n",
    "\n",
    "trans = transform(n_components=2)\n",
    "node_embeddings_2d = trans.fit_transform(node_embeddings)"
   ]
  },
  {
   "cell_type": "code",
   "execution_count": 75,
   "metadata": {},
   "outputs": [
    {
     "data": {
      "image/png": "[encoded data removed]",
      "text/plain": [
       "<Figure size 504x504 with 1 Axes>"
      ]
     },
     "metadata": {
      "needs_background": "light"
     },
     "output_type": "display_data"
    }
   ],
   "source": [
    "# draw the embedding points, coloring them by the target label (paper subject)\n",
    "alpha = 0.7\n",
    "label_map = {l: i for i, l in enumerate(np.unique(nodelist[\"person_1\"]))}\n",
    "node_colours = [label_map[target] for target in nodelist[\"person_1\"]]\n",
    "\n",
    "plt.figure(figsize=(7, 7))\n",
    "plt.axes().set(aspect=\"equal\")\n",
    "plt.scatter(\n",
    "    node_embeddings_2d[:, 0],\n",
    "    node_embeddings_2d[:, 1],\n",
    "    c=node_colours,\n",
    "    cmap=\"jet\",\n",
    "    alpha=alpha,\n",
    ")\n",
    "plt.title(\"{} visualization of node embeddings\".format(transform.__name__))\n",
    "plt.show()"
   ]
  },
  {
   "cell_type": "markdown",
   "metadata": {},
   "source": [
    "## Downstream Task"
   ]
  },
  {
   "cell_type": "markdown",
   "metadata": {},
   "source": [
    "The node representations learned by attri2vec can be used as features for downstream tasks, such as node classification, community detection, and link prediction. As attri2vec inductively learns a mapping function from node content features to the target embeddings, it has the ability to infer the representations for out-of-sample nodes, which can be used to predict the labels or links of out-of-sample nodes."
   ]
  },
  {
   "cell_type": "markdown",
   "metadata": {
    "nbsphinx": "hidden",
    "tags": [
     "CloudRunner"
    ]
   },
   "source": [
    "<table><tr><td>Run the latest release of this notebook:</td><td><a href=\"https://mybinder.org/v2/gh/stellargraph/stellargraph/master?urlpath=lab/tree/demos/embeddings/attri2vec-embeddings.ipynb\" alt=\"Open In Binder\" target=\"_parent\"><img src=\"https://mybinder.org/badge_logo.svg\"/></a></td><td><a href=\"https://colab.research.google.com/github/stellargraph/stellargraph/blob/master/demos/embeddings/attri2vec-embeddings.ipynb\" alt=\"Open In Colab\" target=\"_parent\"><img src=\"https://colab.research.google.com/assets/colab-badge.svg\"/></a></td></tr></table>"
   ]
  }
 ],
 "metadata": {
  "file_extension": ".py",
  "kernelspec": {
   "display_name": "Python 3",
   "language": "python",
   "name": "python3"
  },
  "language_info": {
   "codemirror_mode": {
    "name": "ipython",
    "version": 3
   },
   "file_extension": ".py",
   "mimetype": "text/x-python",
   "name": "python",
   "nbconvert_exporter": "python",
   "pygments_lexer": "ipython3",
   "version": "3.8.3"
  },
  "mimetype": "text/x-python",
  "name": "python",
  "npconvert_exporter": "python",
  "pygments_lexer": "ipython3",
  "version": 3
 },
 "nbformat": 4,
 "nbformat_minor": 4
}
